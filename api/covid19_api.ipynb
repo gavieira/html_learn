{
 "cells": [
  {
   "cell_type": "markdown",
   "metadata": {},
   "source": [
    "# Using a covid API - Parsing and visualizing data:"
   ]
  },
  {
   "cell_type": "markdown",
   "metadata": {},
   "source": [
    "Importing necessary modules:"
   ]
  },
  {
   "cell_type": "code",
   "execution_count": 70,
   "metadata": {},
   "outputs": [],
   "source": [
    "import requests"
   ]
  },
  {
   "cell_type": "markdown",
   "metadata": {},
   "source": [
    "Getting request from [COVID19 API](https://covid19api.com/):"
   ]
  },
  {
   "cell_type": "code",
   "execution_count": 71,
   "metadata": {},
   "outputs": [],
   "source": [
    "req = requests.get(url = 'https://api.covid19api.com/summary')"
   ]
  },
  {
   "cell_type": "markdown",
   "metadata": {},
   "source": [
    "Reading the json output:"
   ]
  },
  {
   "cell_type": "code",
   "execution_count": 73,
   "metadata": {},
   "outputs": [],
   "source": [
    "rawdata = req.json()"
   ]
  },
  {
   "cell_type": "code",
   "execution_count": null,
   "metadata": {},
   "outputs": [],
   "source": [
    "rawdata"
   ]
  },
  {
   "cell_type": "code",
   "execution_count": 78,
   "metadata": {},
   "outputs": [
    {
     "name": "stdout",
     "output_type": "stream",
     "text": [
      "dict_keys(['Global', 'Countries', 'Date'])\n"
     ]
    }
   ],
   "source": [
    "print(rawdata.keys())"
   ]
  },
  {
   "cell_type": "markdown",
   "metadata": {},
   "source": [
    "Creating a function to get COVID information for a single country - could use both country name ('Brazil') or country code ('BR'):"
   ]
  },
  {
   "cell_type": "code",
   "execution_count": 84,
   "metadata": {},
   "outputs": [],
   "source": [
    "def get_country_info(country_name):\n",
    "    for record in rawdata['Countries']:\n",
    "        if record['Country'] == country_name.capitalize() or record['CountryCode'] == country_name.upper():\n",
    "            return(record)"
   ]
  },
  {
   "cell_type": "code",
   "execution_count": 86,
   "metadata": {},
   "outputs": [
    {
     "data": {
      "text/plain": [
       "{'Country': 'Italy',\n",
       " 'CountryCode': 'IT',\n",
       " 'Slug': 'italy',\n",
       " 'NewConfirmed': 2357,\n",
       " 'TotalConfirmed': 195351,\n",
       " 'NewDeaths': 415,\n",
       " 'TotalDeaths': 26384,\n",
       " 'NewRecovered': 2622,\n",
       " 'TotalRecovered': 63120,\n",
       " 'Date': '2020-04-26T21:06:28Z'}"
      ]
     },
     "execution_count": 86,
     "metadata": {},
     "output_type": "execute_result"
    }
   ],
   "source": [
    "get_country_info('it') # Testing our function"
   ]
  },
  {
   "cell_type": "markdown",
   "metadata": {},
   "source": [
    "Get only **total** and **new** cases confirmed, recovered and deaths for a given country:"
   ]
  },
  {
   "cell_type": "code",
   "execution_count": 99,
   "metadata": {},
   "outputs": [
    {
     "name": "stdout",
     "output_type": "stream",
     "text": [
      "Country: Brazil\n",
      "New Confirmed: 5281\n",
      "Total Confirmed: 59324\n",
      "New Recovered: 1505\n",
      "Total Recovered: 29160\n",
      "New Deaths: 353\n",
      "Total Deaths: 4057\n"
     ]
    }
   ],
   "source": [
    "data = get_country_info('Brazil')\n",
    "print(\"Country: {}\\nNew Confirmed: {}\\nTotal Confirmed: {}\\n\\\n",
    "New Recovered: {}\\nTotal Recovered: {}\\n\\\n",
    "New Deaths: {}\\nTotal Deaths: {}\".format(\n",
    "    data['Country'],\n",
    "    data['NewConfirmed'],\n",
    "    data['TotalConfirmed'],\n",
    "    data['NewRecovered'],\n",
    "    data['TotalRecovered'],\n",
    "    data['NewDeaths'],\n",
    "    data['TotalDeaths']))"
   ]
  }
 ],
 "metadata": {
  "kernelspec": {
   "display_name": "Python 3",
   "language": "python",
   "name": "python3"
  },
  "language_info": {
   "codemirror_mode": {
    "name": "ipython",
    "version": 3
   },
   "file_extension": ".py",
   "mimetype": "text/x-python",
   "name": "python",
   "nbconvert_exporter": "python",
   "pygments_lexer": "ipython3",
   "version": "3.7.4"
  }
 },
 "nbformat": 4,
 "nbformat_minor": 4
}
