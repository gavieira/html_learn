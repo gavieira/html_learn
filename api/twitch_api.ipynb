{
 "cells": [
  {
   "cell_type": "markdown",
   "metadata": {},
   "source": [
    "# Using a covid API - Parsing and visualizing data:"
   ]
  },
  {
   "cell_type": "markdown",
   "metadata": {},
   "source": [
    "Importing necessary modules:"
   ]
  },
  {
   "cell_type": "code",
   "execution_count": 4,
   "metadata": {},
   "outputs": [],
   "source": [
    "import requests"
   ]
  },
  {
   "cell_type": "markdown",
   "metadata": {},
   "source": [
    "Setting custom headers required by twitch api:"
   ]
  },
  {
   "cell_type": "code",
   "execution_count": 29,
   "metadata": {},
   "outputs": [],
   "source": [
    "custom_headers = {'Client-ID': 'XXXXXXXXXXXX', 'Accept': 'application/vnd.twitchtv.v5+json'}\n"
   ]
  },
  {
   "cell_type": "markdown",
   "metadata": {},
   "source": [
    "Getting channel id:"
   ]
  },
  {
   "cell_type": "code",
   "execution_count": 41,
   "metadata": {},
   "outputs": [
    {
     "data": {
      "text/plain": [
       "{'_total': 1,\n",
       " 'users': [{'display_name': 'gdeusdeth',\n",
       "   '_id': '183161883',\n",
       "   'name': 'gdeusdeth',\n",
       "   'type': 'user',\n",
       "   'bio': None,\n",
       "   'created_at': '2017-11-25T12:08:07.585302Z',\n",
       "   'updated_at': '2020-06-07T02:59:07.358775Z',\n",
       "   'logo': 'https://static-cdn.jtvnw.net/user-default-pictures-uv/dbdc9198-def8-11e9-8681-784f43822e80-profile_image-300x300.png'}]}"
      ]
     },
     "execution_count": 41,
     "metadata": {},
     "output_type": "execute_result"
    }
   ],
   "source": [
    "url = 'https://api.twitch.tv/kraken/users?login=gdeusdeth'\n",
    "req = requests.get(url, headers=custom_headers)\n",
    "rawdata = req.json()\n",
    "rawdata"
   ]
  },
  {
   "cell_type": "markdown",
   "metadata": {},
   "source": [
    "Getting who a given twitch user is following:"
   ]
  },
  {
   "cell_type": "code",
   "execution_count": 42,
   "metadata": {},
   "outputs": [],
   "source": [
    "url = 'https://api.twitch.tv/kraken/users/183161883/follows/channels'\n"
   ]
  },
  {
   "cell_type": "code",
   "execution_count": 43,
   "metadata": {},
   "outputs": [],
   "source": [
    "req = requests.get(url, headers=custom_headers)"
   ]
  },
  {
   "cell_type": "markdown",
   "metadata": {},
   "source": [
    "Reading the json output:"
   ]
  },
  {
   "cell_type": "code",
   "execution_count": 44,
   "metadata": {},
   "outputs": [],
   "source": [
    "rawdata = req.json()"
   ]
  },
  {
   "cell_type": "code",
   "execution_count": 45,
   "metadata": {},
   "outputs": [],
   "source": [
    "following = rawdata.get('follows')"
   ]
  },
  {
   "cell_type": "code",
   "execution_count": 46,
   "metadata": {},
   "outputs": [
    {
     "name": "stdout",
     "output_type": "stream",
     "text": [
      "atheenon en\n",
      "salvner en\n",
      "cohhcarnage en\n",
      "dragondarchsda en\n",
      "manvsgame en\n",
      "thespherehunter en\n",
      "thestrangerebel en\n",
      "stevieblu_ en\n",
      "nemz38 en\n",
      "quackclube pt-br\n",
      "epicnamebro en\n",
      "the_happy_hob en-gb\n",
      "outerheaven en\n",
      "caneandrinse en\n",
      "metako en\n",
      "tapioca en\n",
      "speedrunsbrasil en\n",
      "lobosjr en\n",
      "pixievalkyrie sv\n",
      "squillakilla en\n",
      "survivalhorrornetwork en\n",
      "elajjaz sv\n",
      "muttski en\n",
      "spikevegeta en\n",
      "distortion2 en\n"
     ]
    }
   ],
   "source": [
    "for i in following:\n",
    "    print(i.get('channel').get('name'), i.get('channel').get('language'))"
   ]
  }
 ],
 "metadata": {
  "kernelspec": {
   "display_name": "Python 3",
   "language": "python",
   "name": "python3"
  },
  "language_info": {
   "codemirror_mode": {
    "name": "ipython",
    "version": 3
   },
   "file_extension": ".py",
   "mimetype": "text/x-python",
   "name": "python",
   "nbconvert_exporter": "python",
   "pygments_lexer": "ipython3",
   "version": "3.7.4"
  }
 },
 "nbformat": 4,
 "nbformat_minor": 4
}
