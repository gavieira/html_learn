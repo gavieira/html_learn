{
 "cells": [
  {
   "cell_type": "markdown",
   "metadata": {},
   "source": [
    "# Using Javascript to parse covid19 data"
   ]
  },
  {
   "cell_type": "code",
   "execution_count": 90,
   "metadata": {},
   "outputs": [
    {
     "data": {
      "application/javascript": [
       "\n",
       "var country_name = 'br'\n",
       "\n",
       "var covid_data = ''\n",
       "\n",
       "var covid_country = {}\n",
       "\n",
       "var HttpClient = function() {\n",
       "    this.get = function(aUrl, aCallback) {\n",
       "        var anHttpRequest = new XMLHttpRequest();\n",
       "        anHttpRequest.onreadystatechange = function() { \n",
       "            if (anHttpRequest.readyState == 4 && anHttpRequest.status == 200)\n",
       "                aCallback(anHttpRequest.responseText);\n",
       "        }\n",
       "\n",
       "        anHttpRequest.open( \"GET\", aUrl, true );            \n",
       "        anHttpRequest.send( null );\n",
       "    }\n",
       "}\n",
       "\n",
       "var client = new HttpClient();\n",
       "client.get('https://api.covid19api.com/summary', function(response) {\n",
       "    var covid_data = JSON.parse(response)\n",
       "    var countries = covid_data['Countries']\n",
       "    var country_name_capitalized = country_name.charAt(0).toUpperCase() + \n",
       "           country_name.slice(1)\n",
       "    for (let i = 0; i < countries.length; i++) {\n",
       "        if (country_name_capitalized == countries[i]['Country'] || \n",
       "            country_name.toUpperCase() == countries[i]['CountryCode']) {\n",
       "        var covid_country = countries[i];\n",
       "        }\n",
       "    }\n",
       "    for (let [key, value] of Object.entries(covid_country)) {\n",
       "    console.log(`${key}: ${value}`);\n",
       "    }\n",
       "});\n"
      ],
      "text/plain": [
       "<IPython.core.display.Javascript object>"
      ]
     },
     "metadata": {},
     "output_type": "display_data"
    }
   ],
   "source": [
    "%%javascript\n",
    "\n",
    "var country_name = 'br'\n",
    "\n",
    "var covid_data = ''\n",
    "\n",
    "var covid_country = {}\n",
    "\n",
    "var HttpClient = function() {\n",
    "    this.get = function(aUrl, aCallback) {\n",
    "        var anHttpRequest = new XMLHttpRequest();\n",
    "        anHttpRequest.onreadystatechange = function() { \n",
    "            if (anHttpRequest.readyState == 4 && anHttpRequest.status == 200)\n",
    "                aCallback(anHttpRequest.responseText);\n",
    "        }\n",
    "\n",
    "        anHttpRequest.open( \"GET\", aUrl, true );            \n",
    "        anHttpRequest.send( null );\n",
    "    }\n",
    "}\n",
    "\n",
    "var client = new HttpClient();\n",
    "client.get('https://api.covid19api.com/summary', function(response) {\n",
    "    var covid_data = JSON.parse(response)\n",
    "    var countries = covid_data['Countries']\n",
    "    var country_name_capitalized = country_name.charAt(0).toUpperCase() + \n",
    "           country_name.slice(1)\n",
    "    for (let i = 0; i < countries.length; i++) {\n",
    "        if (country_name_capitalized == countries[i]['Country'] || \n",
    "            country_name.toUpperCase() == countries[i]['CountryCode']) {\n",
    "        var covid_country = countries[i];\n",
    "        }\n",
    "    }\n",
    "    for (let [key, value] of Object.entries(covid_country)) {\n",
    "    console.log(`${key}: ${value}`);\n",
    "    }\n",
    "});"
   ]
  }
 ],
 "metadata": {
  "kernelspec": {
   "display_name": "Python 3",
   "language": "python",
   "name": "python3"
  },
  "language_info": {
   "codemirror_mode": {
    "name": "ipython",
    "version": 3
   },
   "file_extension": ".py",
   "mimetype": "text/x-python",
   "name": "python",
   "nbconvert_exporter": "python",
   "pygments_lexer": "ipython3",
   "version": "3.7.4"
  }
 },
 "nbformat": 4,
 "nbformat_minor": 4
}
